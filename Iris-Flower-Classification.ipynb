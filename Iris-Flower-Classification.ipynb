{
 "cells": [
  {
   "cell_type": "markdown",
   "id": "0759811a",
   "metadata": {
    "papermill": {
     "duration": 0.005541,
     "end_time": "2024-05-29T00:21:04.858075",
     "exception": false,
     "start_time": "2024-05-29T00:21:04.852534",
     "status": "completed"
    },
    "tags": []
   },
   "source": [
    "### Importing libraries:"
   ]
  },
  {
   "cell_type": "code",
   "execution_count": 1,
   "id": "0ffad458",
   "metadata": {
    "execution": {
     "iopub.execute_input": "2024-05-29T00:21:04.869974Z",
     "iopub.status.busy": "2024-05-29T00:21:04.869552Z",
     "iopub.status.idle": "2024-05-29T00:21:07.335592Z",
     "shell.execute_reply": "2024-05-29T00:21:07.334497Z"
    },
    "papermill": {
     "duration": 2.474892,
     "end_time": "2024-05-29T00:21:07.338120",
     "exception": false,
     "start_time": "2024-05-29T00:21:04.863228",
     "status": "completed"
    },
    "tags": []
   },
   "outputs": [],
   "source": [
    "import pandas as pd\n",
    "from sklearn.model_selection import train_test_split, GridSearchCV, cross_val_score\n",
    "from sklearn.metrics import accuracy_score, classification_report\n",
    "from sklearn.pipeline import Pipeline\n",
    "from sklearn.preprocessing import StandardScaler\n",
    "from sklearn.ensemble import RandomForestClassifier"
   ]
  },
  {
   "cell_type": "markdown",
   "id": "77bd2517",
   "metadata": {
    "papermill": {
     "duration": 0.004586,
     "end_time": "2024-05-29T00:21:07.347757",
     "exception": false,
     "start_time": "2024-05-29T00:21:07.343171",
     "status": "completed"
    },
    "tags": []
   },
   "source": [
    "### Loading the data:"
   ]
  },
  {
   "cell_type": "code",
   "execution_count": 2,
   "id": "056044b8",
   "metadata": {
    "execution": {
     "iopub.execute_input": "2024-05-29T00:21:07.359195Z",
     "iopub.status.busy": "2024-05-29T00:21:07.358681Z",
     "iopub.status.idle": "2024-05-29T00:21:07.385708Z",
     "shell.execute_reply": "2024-05-29T00:21:07.384771Z"
    },
    "papermill": {
     "duration": 0.035744,
     "end_time": "2024-05-29T00:21:07.388339",
     "exception": false,
     "start_time": "2024-05-29T00:21:07.352595",
     "status": "completed"
    },
    "tags": []
   },
   "outputs": [],
   "source": [
    "file_path = r'/kaggle/input/iris-flower-dataset/IRIS.csv'\n",
    "data = pd.read_csv(file_path)"
   ]
  },
  {
   "cell_type": "code",
   "execution_count": 3,
   "id": "b6798d33",
   "metadata": {
    "execution": {
     "iopub.execute_input": "2024-05-29T00:21:07.399902Z",
     "iopub.status.busy": "2024-05-29T00:21:07.399516Z",
     "iopub.status.idle": "2024-05-29T00:21:07.423906Z",
     "shell.execute_reply": "2024-05-29T00:21:07.422850Z"
    },
    "papermill": {
     "duration": 0.033046,
     "end_time": "2024-05-29T00:21:07.426487",
     "exception": false,
     "start_time": "2024-05-29T00:21:07.393441",
     "status": "completed"
    },
    "tags": []
   },
   "outputs": [
    {
     "data": {
      "text/html": [
       "<div>\n",
       "<style scoped>\n",
       "    .dataframe tbody tr th:only-of-type {\n",
       "        vertical-align: middle;\n",
       "    }\n",
       "\n",
       "    .dataframe tbody tr th {\n",
       "        vertical-align: top;\n",
       "    }\n",
       "\n",
       "    .dataframe thead th {\n",
       "        text-align: right;\n",
       "    }\n",
       "</style>\n",
       "<table border=\"1\" class=\"dataframe\">\n",
       "  <thead>\n",
       "    <tr style=\"text-align: right;\">\n",
       "      <th></th>\n",
       "      <th>sepal_length</th>\n",
       "      <th>sepal_width</th>\n",
       "      <th>petal_length</th>\n",
       "      <th>petal_width</th>\n",
       "      <th>species</th>\n",
       "    </tr>\n",
       "  </thead>\n",
       "  <tbody>\n",
       "    <tr>\n",
       "      <th>0</th>\n",
       "      <td>5.1</td>\n",
       "      <td>3.5</td>\n",
       "      <td>1.4</td>\n",
       "      <td>0.2</td>\n",
       "      <td>Iris-setosa</td>\n",
       "    </tr>\n",
       "    <tr>\n",
       "      <th>1</th>\n",
       "      <td>4.9</td>\n",
       "      <td>3.0</td>\n",
       "      <td>1.4</td>\n",
       "      <td>0.2</td>\n",
       "      <td>Iris-setosa</td>\n",
       "    </tr>\n",
       "    <tr>\n",
       "      <th>2</th>\n",
       "      <td>4.7</td>\n",
       "      <td>3.2</td>\n",
       "      <td>1.3</td>\n",
       "      <td>0.2</td>\n",
       "      <td>Iris-setosa</td>\n",
       "    </tr>\n",
       "    <tr>\n",
       "      <th>3</th>\n",
       "      <td>4.6</td>\n",
       "      <td>3.1</td>\n",
       "      <td>1.5</td>\n",
       "      <td>0.2</td>\n",
       "      <td>Iris-setosa</td>\n",
       "    </tr>\n",
       "    <tr>\n",
       "      <th>4</th>\n",
       "      <td>5.0</td>\n",
       "      <td>3.6</td>\n",
       "      <td>1.4</td>\n",
       "      <td>0.2</td>\n",
       "      <td>Iris-setosa</td>\n",
       "    </tr>\n",
       "  </tbody>\n",
       "</table>\n",
       "</div>"
      ],
      "text/plain": [
       "   sepal_length  sepal_width  petal_length  petal_width      species\n",
       "0           5.1          3.5           1.4          0.2  Iris-setosa\n",
       "1           4.9          3.0           1.4          0.2  Iris-setosa\n",
       "2           4.7          3.2           1.3          0.2  Iris-setosa\n",
       "3           4.6          3.1           1.5          0.2  Iris-setosa\n",
       "4           5.0          3.6           1.4          0.2  Iris-setosa"
      ]
     },
     "execution_count": 3,
     "metadata": {},
     "output_type": "execute_result"
    }
   ],
   "source": [
    "data.head()"
   ]
  },
  {
   "cell_type": "code",
   "execution_count": 4,
   "id": "7cfa3617",
   "metadata": {
    "execution": {
     "iopub.execute_input": "2024-05-29T00:21:07.439039Z",
     "iopub.status.busy": "2024-05-29T00:21:07.438672Z",
     "iopub.status.idle": "2024-05-29T00:21:07.447522Z",
     "shell.execute_reply": "2024-05-29T00:21:07.446464Z"
    },
    "papermill": {
     "duration": 0.01823,
     "end_time": "2024-05-29T00:21:07.449881",
     "exception": false,
     "start_time": "2024-05-29T00:21:07.431651",
     "status": "completed"
    },
    "tags": []
   },
   "outputs": [
    {
     "data": {
      "text/plain": [
       "sepal_length    0\n",
       "sepal_width     0\n",
       "petal_length    0\n",
       "petal_width     0\n",
       "species         0\n",
       "dtype: int64"
      ]
     },
     "execution_count": 4,
     "metadata": {},
     "output_type": "execute_result"
    }
   ],
   "source": [
    "data.isnull().sum()"
   ]
  },
  {
   "cell_type": "code",
   "execution_count": 5,
   "id": "d983ad34",
   "metadata": {
    "execution": {
     "iopub.execute_input": "2024-05-29T00:21:07.462273Z",
     "iopub.status.busy": "2024-05-29T00:21:07.461888Z",
     "iopub.status.idle": "2024-05-29T00:21:07.470736Z",
     "shell.execute_reply": "2024-05-29T00:21:07.469658Z"
    },
    "papermill": {
     "duration": 0.017925,
     "end_time": "2024-05-29T00:21:07.473083",
     "exception": false,
     "start_time": "2024-05-29T00:21:07.455158",
     "status": "completed"
    },
    "tags": []
   },
   "outputs": [],
   "source": [
    "x = data.drop('species', axis=1)\n",
    "y = data['species']"
   ]
  },
  {
   "cell_type": "markdown",
   "id": "23db80c0",
   "metadata": {
    "papermill": {
     "duration": 0.005067,
     "end_time": "2024-05-29T00:21:07.483585",
     "exception": false,
     "start_time": "2024-05-29T00:21:07.478518",
     "status": "completed"
    },
    "tags": []
   },
   "source": [
    "### Splitting the data into training and test sets:"
   ]
  },
  {
   "cell_type": "code",
   "execution_count": 6,
   "id": "711a5ba0",
   "metadata": {
    "execution": {
     "iopub.execute_input": "2024-05-29T00:21:07.496494Z",
     "iopub.status.busy": "2024-05-29T00:21:07.495494Z",
     "iopub.status.idle": "2024-05-29T00:21:07.504794Z",
     "shell.execute_reply": "2024-05-29T00:21:07.503443Z"
    },
    "papermill": {
     "duration": 0.018591,
     "end_time": "2024-05-29T00:21:07.507482",
     "exception": false,
     "start_time": "2024-05-29T00:21:07.488891",
     "status": "completed"
    },
    "tags": []
   },
   "outputs": [],
   "source": [
    "X_train,X_test,Y_train,Y_test= train_test_split(x,y,test_size=0.2,random_state=42)"
   ]
  },
  {
   "cell_type": "markdown",
   "id": "c6fe1dc7",
   "metadata": {
    "papermill": {
     "duration": 0.005199,
     "end_time": "2024-05-29T00:21:07.518145",
     "exception": false,
     "start_time": "2024-05-29T00:21:07.512946",
     "status": "completed"
    },
    "tags": []
   },
   "source": [
    "### Defining the pipeline and grid search for RandomForestClassifier:"
   ]
  },
  {
   "cell_type": "code",
   "execution_count": 7,
   "id": "1327719b",
   "metadata": {
    "execution": {
     "iopub.execute_input": "2024-05-29T00:21:07.531498Z",
     "iopub.status.busy": "2024-05-29T00:21:07.531100Z",
     "iopub.status.idle": "2024-05-29T00:21:07.536305Z",
     "shell.execute_reply": "2024-05-29T00:21:07.535180Z"
    },
    "papermill": {
     "duration": 0.014004,
     "end_time": "2024-05-29T00:21:07.538569",
     "exception": false,
     "start_time": "2024-05-29T00:21:07.524565",
     "status": "completed"
    },
    "tags": []
   },
   "outputs": [],
   "source": [
    "pipeline_rf = Pipeline([\n",
    "    ('scaler', StandardScaler()),\n",
    "    ('clf', RandomForestClassifier(random_state=42))\n",
    "])"
   ]
  },
  {
   "cell_type": "code",
   "execution_count": 8,
   "id": "e94431f5",
   "metadata": {
    "execution": {
     "iopub.execute_input": "2024-05-29T00:21:07.550944Z",
     "iopub.status.busy": "2024-05-29T00:21:07.550558Z",
     "iopub.status.idle": "2024-05-29T00:21:07.556143Z",
     "shell.execute_reply": "2024-05-29T00:21:07.555022Z"
    },
    "papermill": {
     "duration": 0.014669,
     "end_time": "2024-05-29T00:21:07.558610",
     "exception": false,
     "start_time": "2024-05-29T00:21:07.543941",
     "status": "completed"
    },
    "tags": []
   },
   "outputs": [],
   "source": [
    "param_grid_rf = {\n",
    "    'clf__n_estimators': [100, 200, 300],  # Number of trees in the forest\n",
    "    'clf__max_depth': [None, 10, 20, 30],   # Maximum depth of the tree\n",
    "    'clf__min_samples_split': [2, 5, 10],   # Minimum number of samples required to split a node\n",
    "    'clf__min_samples_leaf': [1, 2, 4]      # Minimum number of samples required at each leaf node\n",
    "}"
   ]
  },
  {
   "cell_type": "markdown",
   "id": "73c790ab",
   "metadata": {
    "papermill": {
     "duration": 0.005131,
     "end_time": "2024-05-29T00:21:07.569160",
     "exception": false,
     "start_time": "2024-05-29T00:21:07.564029",
     "status": "completed"
    },
    "tags": []
   },
   "source": [
    "### Searching for the best parameters with GridSearchCV:"
   ]
  },
  {
   "cell_type": "code",
   "execution_count": 9,
   "id": "cda2cb0f",
   "metadata": {
    "execution": {
     "iopub.execute_input": "2024-05-29T00:21:07.582165Z",
     "iopub.status.busy": "2024-05-29T00:21:07.581773Z",
     "iopub.status.idle": "2024-05-29T00:24:06.391540Z",
     "shell.execute_reply": "2024-05-29T00:24:06.390457Z"
    },
    "papermill": {
     "duration": 178.824493,
     "end_time": "2024-05-29T00:24:06.399500",
     "exception": false,
     "start_time": "2024-05-29T00:21:07.575007",
     "status": "completed"
    },
    "tags": []
   },
   "outputs": [
    {
     "data": {
      "text/html": [
       "<style>#sk-container-id-1 {color: black;background-color: white;}#sk-container-id-1 pre{padding: 0;}#sk-container-id-1 div.sk-toggleable {background-color: white;}#sk-container-id-1 label.sk-toggleable__label {cursor: pointer;display: block;width: 100%;margin-bottom: 0;padding: 0.3em;box-sizing: border-box;text-align: center;}#sk-container-id-1 label.sk-toggleable__label-arrow:before {content: \"▸\";float: left;margin-right: 0.25em;color: #696969;}#sk-container-id-1 label.sk-toggleable__label-arrow:hover:before {color: black;}#sk-container-id-1 div.sk-estimator:hover label.sk-toggleable__label-arrow:before {color: black;}#sk-container-id-1 div.sk-toggleable__content {max-height: 0;max-width: 0;overflow: hidden;text-align: left;background-color: #f0f8ff;}#sk-container-id-1 div.sk-toggleable__content pre {margin: 0.2em;color: black;border-radius: 0.25em;background-color: #f0f8ff;}#sk-container-id-1 input.sk-toggleable__control:checked~div.sk-toggleable__content {max-height: 200px;max-width: 100%;overflow: auto;}#sk-container-id-1 input.sk-toggleable__control:checked~label.sk-toggleable__label-arrow:before {content: \"▾\";}#sk-container-id-1 div.sk-estimator input.sk-toggleable__control:checked~label.sk-toggleable__label {background-color: #d4ebff;}#sk-container-id-1 div.sk-label input.sk-toggleable__control:checked~label.sk-toggleable__label {background-color: #d4ebff;}#sk-container-id-1 input.sk-hidden--visually {border: 0;clip: rect(1px 1px 1px 1px);clip: rect(1px, 1px, 1px, 1px);height: 1px;margin: -1px;overflow: hidden;padding: 0;position: absolute;width: 1px;}#sk-container-id-1 div.sk-estimator {font-family: monospace;background-color: #f0f8ff;border: 1px dotted black;border-radius: 0.25em;box-sizing: border-box;margin-bottom: 0.5em;}#sk-container-id-1 div.sk-estimator:hover {background-color: #d4ebff;}#sk-container-id-1 div.sk-parallel-item::after {content: \"\";width: 100%;border-bottom: 1px solid gray;flex-grow: 1;}#sk-container-id-1 div.sk-label:hover label.sk-toggleable__label {background-color: #d4ebff;}#sk-container-id-1 div.sk-serial::before {content: \"\";position: absolute;border-left: 1px solid gray;box-sizing: border-box;top: 0;bottom: 0;left: 50%;z-index: 0;}#sk-container-id-1 div.sk-serial {display: flex;flex-direction: column;align-items: center;background-color: white;padding-right: 0.2em;padding-left: 0.2em;position: relative;}#sk-container-id-1 div.sk-item {position: relative;z-index: 1;}#sk-container-id-1 div.sk-parallel {display: flex;align-items: stretch;justify-content: center;background-color: white;position: relative;}#sk-container-id-1 div.sk-item::before, #sk-container-id-1 div.sk-parallel-item::before {content: \"\";position: absolute;border-left: 1px solid gray;box-sizing: border-box;top: 0;bottom: 0;left: 50%;z-index: -1;}#sk-container-id-1 div.sk-parallel-item {display: flex;flex-direction: column;z-index: 1;position: relative;background-color: white;}#sk-container-id-1 div.sk-parallel-item:first-child::after {align-self: flex-end;width: 50%;}#sk-container-id-1 div.sk-parallel-item:last-child::after {align-self: flex-start;width: 50%;}#sk-container-id-1 div.sk-parallel-item:only-child::after {width: 0;}#sk-container-id-1 div.sk-dashed-wrapped {border: 1px dashed gray;margin: 0 0.4em 0.5em 0.4em;box-sizing: border-box;padding-bottom: 0.4em;background-color: white;}#sk-container-id-1 div.sk-label label {font-family: monospace;font-weight: bold;display: inline-block;line-height: 1.2em;}#sk-container-id-1 div.sk-label-container {text-align: center;}#sk-container-id-1 div.sk-container {/* jupyter's `normalize.less` sets `[hidden] { display: none; }` but bootstrap.min.css set `[hidden] { display: none !important; }` so we also need the `!important` here to be able to override the default hidden behavior on the sphinx rendered scikit-learn.org. See: https://github.com/scikit-learn/scikit-learn/issues/21755 */display: inline-block !important;position: relative;}#sk-container-id-1 div.sk-text-repr-fallback {display: none;}</style><div id=\"sk-container-id-1\" class=\"sk-top-container\"><div class=\"sk-text-repr-fallback\"><pre>GridSearchCV(cv=5,\n",
       "             estimator=Pipeline(steps=[(&#x27;scaler&#x27;, StandardScaler()),\n",
       "                                       (&#x27;clf&#x27;,\n",
       "                                        RandomForestClassifier(random_state=42))]),\n",
       "             param_grid={&#x27;clf__max_depth&#x27;: [None, 10, 20, 30],\n",
       "                         &#x27;clf__min_samples_leaf&#x27;: [1, 2, 4],\n",
       "                         &#x27;clf__min_samples_split&#x27;: [2, 5, 10],\n",
       "                         &#x27;clf__n_estimators&#x27;: [100, 200, 300]},\n",
       "             scoring=&#x27;accuracy&#x27;)</pre><b>In a Jupyter environment, please rerun this cell to show the HTML representation or trust the notebook. <br />On GitHub, the HTML representation is unable to render, please try loading this page with nbviewer.org.</b></div><div class=\"sk-container\" hidden><div class=\"sk-item sk-dashed-wrapped\"><div class=\"sk-label-container\"><div class=\"sk-label sk-toggleable\"><input class=\"sk-toggleable__control sk-hidden--visually\" id=\"sk-estimator-id-1\" type=\"checkbox\" ><label for=\"sk-estimator-id-1\" class=\"sk-toggleable__label sk-toggleable__label-arrow\">GridSearchCV</label><div class=\"sk-toggleable__content\"><pre>GridSearchCV(cv=5,\n",
       "             estimator=Pipeline(steps=[(&#x27;scaler&#x27;, StandardScaler()),\n",
       "                                       (&#x27;clf&#x27;,\n",
       "                                        RandomForestClassifier(random_state=42))]),\n",
       "             param_grid={&#x27;clf__max_depth&#x27;: [None, 10, 20, 30],\n",
       "                         &#x27;clf__min_samples_leaf&#x27;: [1, 2, 4],\n",
       "                         &#x27;clf__min_samples_split&#x27;: [2, 5, 10],\n",
       "                         &#x27;clf__n_estimators&#x27;: [100, 200, 300]},\n",
       "             scoring=&#x27;accuracy&#x27;)</pre></div></div></div><div class=\"sk-parallel\"><div class=\"sk-parallel-item\"><div class=\"sk-item\"><div class=\"sk-label-container\"><div class=\"sk-label sk-toggleable\"><input class=\"sk-toggleable__control sk-hidden--visually\" id=\"sk-estimator-id-2\" type=\"checkbox\" ><label for=\"sk-estimator-id-2\" class=\"sk-toggleable__label sk-toggleable__label-arrow\">estimator: Pipeline</label><div class=\"sk-toggleable__content\"><pre>Pipeline(steps=[(&#x27;scaler&#x27;, StandardScaler()),\n",
       "                (&#x27;clf&#x27;, RandomForestClassifier(random_state=42))])</pre></div></div></div><div class=\"sk-serial\"><div class=\"sk-item\"><div class=\"sk-serial\"><div class=\"sk-item\"><div class=\"sk-estimator sk-toggleable\"><input class=\"sk-toggleable__control sk-hidden--visually\" id=\"sk-estimator-id-3\" type=\"checkbox\" ><label for=\"sk-estimator-id-3\" class=\"sk-toggleable__label sk-toggleable__label-arrow\">StandardScaler</label><div class=\"sk-toggleable__content\"><pre>StandardScaler()</pre></div></div></div><div class=\"sk-item\"><div class=\"sk-estimator sk-toggleable\"><input class=\"sk-toggleable__control sk-hidden--visually\" id=\"sk-estimator-id-4\" type=\"checkbox\" ><label for=\"sk-estimator-id-4\" class=\"sk-toggleable__label sk-toggleable__label-arrow\">RandomForestClassifier</label><div class=\"sk-toggleable__content\"><pre>RandomForestClassifier(random_state=42)</pre></div></div></div></div></div></div></div></div></div></div></div></div>"
      ],
      "text/plain": [
       "GridSearchCV(cv=5,\n",
       "             estimator=Pipeline(steps=[('scaler', StandardScaler()),\n",
       "                                       ('clf',\n",
       "                                        RandomForestClassifier(random_state=42))]),\n",
       "             param_grid={'clf__max_depth': [None, 10, 20, 30],\n",
       "                         'clf__min_samples_leaf': [1, 2, 4],\n",
       "                         'clf__min_samples_split': [2, 5, 10],\n",
       "                         'clf__n_estimators': [100, 200, 300]},\n",
       "             scoring='accuracy')"
      ]
     },
     "execution_count": 9,
     "metadata": {},
     "output_type": "execute_result"
    }
   ],
   "source": [
    "grid_search = GridSearchCV(pipeline_rf , param_grid_rf, cv=5, scoring='accuracy')\n",
    "grid_search.fit(X_train,Y_train)\n"
   ]
  },
  {
   "cell_type": "markdown",
   "id": "8539b72d",
   "metadata": {
    "papermill": {
     "duration": 0.005342,
     "end_time": "2024-05-29T00:24:06.410393",
     "exception": false,
     "start_time": "2024-05-29T00:24:06.405051",
     "status": "completed"
    },
    "tags": []
   },
   "source": [
    "### Evaluating the model and displaying results:"
   ]
  },
  {
   "cell_type": "code",
   "execution_count": 10,
   "id": "3bdf95a7",
   "metadata": {
    "execution": {
     "iopub.execute_input": "2024-05-29T00:24:06.423300Z",
     "iopub.status.busy": "2024-05-29T00:24:06.422918Z",
     "iopub.status.idle": "2024-05-29T00:24:06.427778Z",
     "shell.execute_reply": "2024-05-29T00:24:06.426705Z"
    },
    "papermill": {
     "duration": 0.014237,
     "end_time": "2024-05-29T00:24:06.430278",
     "exception": false,
     "start_time": "2024-05-29T00:24:06.416041",
     "status": "completed"
    },
    "tags": []
   },
   "outputs": [],
   "source": [
    "best_model = grid_search.best_estimator_"
   ]
  },
  {
   "cell_type": "code",
   "execution_count": 11,
   "id": "ab92a377",
   "metadata": {
    "execution": {
     "iopub.execute_input": "2024-05-29T00:24:06.444126Z",
     "iopub.status.busy": "2024-05-29T00:24:06.443156Z",
     "iopub.status.idle": "2024-05-29T00:24:06.461638Z",
     "shell.execute_reply": "2024-05-29T00:24:06.460603Z"
    },
    "papermill": {
     "duration": 0.02813,
     "end_time": "2024-05-29T00:24:06.464386",
     "exception": false,
     "start_time": "2024-05-29T00:24:06.436256",
     "status": "completed"
    },
    "tags": []
   },
   "outputs": [],
   "source": [
    "y_pred = best_model.predict(X_test)"
   ]
  },
  {
   "cell_type": "code",
   "execution_count": 12,
   "id": "efd7af36",
   "metadata": {
    "execution": {
     "iopub.execute_input": "2024-05-29T00:24:06.479295Z",
     "iopub.status.busy": "2024-05-29T00:24:06.478389Z",
     "iopub.status.idle": "2024-05-29T00:24:06.492449Z",
     "shell.execute_reply": "2024-05-29T00:24:06.491554Z"
    },
    "papermill": {
     "duration": 0.02486,
     "end_time": "2024-05-29T00:24:06.494963",
     "exception": false,
     "start_time": "2024-05-29T00:24:06.470103",
     "status": "completed"
    },
    "tags": []
   },
   "outputs": [],
   "source": [
    "accuracy = accuracy_score(Y_test, y_pred)\n",
    "report = classification_report(Y_test, y_pred)"
   ]
  },
  {
   "cell_type": "code",
   "execution_count": 13,
   "id": "104f223c",
   "metadata": {
    "execution": {
     "iopub.execute_input": "2024-05-29T00:24:06.507891Z",
     "iopub.status.busy": "2024-05-29T00:24:06.507500Z",
     "iopub.status.idle": "2024-05-29T00:24:06.513509Z",
     "shell.execute_reply": "2024-05-29T00:24:06.512465Z"
    },
    "papermill": {
     "duration": 0.015116,
     "end_time": "2024-05-29T00:24:06.515874",
     "exception": false,
     "start_time": "2024-05-29T00:24:06.500758",
     "status": "completed"
    },
    "tags": []
   },
   "outputs": [
    {
     "name": "stdout",
     "output_type": "stream",
     "text": [
      "Best Parameters: {'clf__max_depth': None, 'clf__min_samples_leaf': 1, 'clf__min_samples_split': 2, 'clf__n_estimators': 200}\n",
      "Accuracy: 1.0\n",
      "Classification Report:\n",
      "                 precision    recall  f1-score   support\n",
      "\n",
      "    Iris-setosa       1.00      1.00      1.00        10\n",
      "Iris-versicolor       1.00      1.00      1.00         9\n",
      " Iris-virginica       1.00      1.00      1.00        11\n",
      "\n",
      "       accuracy                           1.00        30\n",
      "      macro avg       1.00      1.00      1.00        30\n",
      "   weighted avg       1.00      1.00      1.00        30\n",
      "\n"
     ]
    }
   ],
   "source": [
    "\n",
    "print(f'Best Parameters: {grid_search.best_params_}')\n",
    "print(f'Accuracy: {accuracy}')\n",
    "print('Classification Report:')\n",
    "print(report)\n"
   ]
  },
  {
   "cell_type": "markdown",
   "id": "7326f819",
   "metadata": {
    "papermill": {
     "duration": 0.005422,
     "end_time": "2024-05-29T00:24:06.527078",
     "exception": false,
     "start_time": "2024-05-29T00:24:06.521656",
     "status": "completed"
    },
    "tags": []
   },
   "source": [
    "### Cross-validation score:"
   ]
  },
  {
   "cell_type": "code",
   "execution_count": 14,
   "id": "b132b2f7",
   "metadata": {
    "execution": {
     "iopub.execute_input": "2024-05-29T00:24:06.540231Z",
     "iopub.status.busy": "2024-05-29T00:24:06.539845Z",
     "iopub.status.idle": "2024-05-29T00:24:08.204545Z",
     "shell.execute_reply": "2024-05-29T00:24:08.203319Z"
    },
    "papermill": {
     "duration": 1.674459,
     "end_time": "2024-05-29T00:24:08.207248",
     "exception": false,
     "start_time": "2024-05-29T00:24:06.532789",
     "status": "completed"
    },
    "tags": []
   },
   "outputs": [
    {
     "name": "stdout",
     "output_type": "stream",
     "text": [
      "Cross-validation Accuracy: 0.9666666666666668\n"
     ]
    }
   ],
   "source": [
    "cv_scores = cross_val_score(best_model, x, y, cv=5, scoring='accuracy')\n",
    "print(f'Cross-validation Accuracy: {cv_scores.mean()}')"
   ]
  }
 ],
 "metadata": {
  "kaggle": {
   "accelerator": "none",
   "dataSources": [
    {
     "datasetId": 17860,
     "sourceId": 23404,
     "sourceType": "datasetVersion"
    }
   ],
   "dockerImageVersionId": 30698,
   "isGpuEnabled": false,
   "isInternetEnabled": false,
   "language": "python",
   "sourceType": "notebook"
  },
  "kernelspec": {
   "display_name": "Python 3",
   "language": "python",
   "name": "python3"
  },
  "language_info": {
   "codemirror_mode": {
    "name": "ipython",
    "version": 3
   },
   "file_extension": ".py",
   "mimetype": "text/x-python",
   "name": "python",
   "nbconvert_exporter": "python",
   "pygments_lexer": "ipython3",
   "version": "3.10.13"
  },
  "papermill": {
   "default_parameters": {},
   "duration": 186.747276,
   "end_time": "2024-05-29T00:24:08.835849",
   "environment_variables": {},
   "exception": null,
   "input_path": "__notebook__.ipynb",
   "output_path": "__notebook__.ipynb",
   "parameters": {},
   "start_time": "2024-05-29T00:21:02.088573",
   "version": "2.5.0"
  }
 },
 "nbformat": 4,
 "nbformat_minor": 5
}
